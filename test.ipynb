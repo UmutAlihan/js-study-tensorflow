{
  "nbformat": 4,
  "nbformat_minor": 0,
  "metadata": {
    "colab": {
      "name": "Google Colaboratory + TensorflowJS example",
      "version": "0.3.2",
      "provenance": []
    },
    "kernelspec": {
      "name": "javascript",
      "display_name": "javascript"
    }
  },
  "cells": [
    {
      "cell_type": "markdown",
      "metadata": {
        "id": "view-in-github",
        "colab_type": "text"
      },
      "source": [
        "[View in Colaboratory](https://colab.research.google.com/github/UmutAlihan/study-tensorflowjs/blob/master/test.ipynb)"
      ]
    },
    {
      "metadata": {
        "id": "Rkb21I2bC3Qa",
        "colab_type": "code",
        "colab": {
          "base_uri": "https://localhost:8080/",
          "height": 34
        },
        "outputId": "595e7c17-7307-4c87-f824-9314e4de4697"
      },
      "cell_type": "code",
      "source": [
        "const tf = require(\"@tensorflow/tfjs\");"
      ],
      "execution_count": 0,
      "outputs": [
        {
          "output_type": "stream",
          "text": [
            "document is not defined\n"
          ],
          "name": "stderr"
        }
      ]
    },
    {
      "metadata": {
        "id": "ckPHkQF7DOP8",
        "colab_type": "code",
        "colab": {
          "base_uri": "https://localhost:8080/",
          "height": 68
        },
        "outputId": "ebeee954-2eef-4851-e6cd-048f2bdbb4d7"
      },
      "cell_type": "code",
      "source": [
        "var c = tf.tensor([[1.0, 2.0, 3.0], [10.0, 20.0, 30.0]]);\n",
        "c.print()"
      ],
      "execution_count": 0,
      "outputs": [
        {
          "output_type": "stream",
          "text": [
            "Tensor\n",
            "    [[1 , 2 , 3 ],\n",
            "     [10, 20, 30]]\n"
          ],
          "name": "stdout"
        }
      ]
    },
    {
      "metadata": {
        "id": "Q-66iXcLDe1j",
        "colab_type": "code",
        "colab": {}
      },
      "cell_type": "code",
      "source": [
        ""
      ],
      "execution_count": 0,
      "outputs": []
    },
    {
      "metadata": {
        "id": "3JVzpgKoZy3h",
        "colab_type": "text"
      },
      "cell_type": "markdown",
      "source": [
        ""
      ]
    }
  ]
}